{
  "nbformat": 4,
  "nbformat_minor": 0,
  "metadata": {
    "colab": {
      "provenance": [],
      "collapsed_sections": []
    },
    "kernelspec": {
      "name": "python3",
      "display_name": "Python 3"
    },
    "language_info": {
      "name": "python"
    },
    "accelerator": "GPU"
  },
  "cells": [
    {
      "cell_type": "markdown",
      "source": [
        "# **Kütühanelerin Yüklenmesi**"
      ],
      "metadata": {
        "id": "zlZH-cCi77lP"
      }
    },
    {
      "cell_type": "code",
      "execution_count": 1,
      "metadata": {
        "id": "lVKnx3iAw0GT"
      },
      "outputs": [],
      "source": [
        "from matplotlib import image\n",
        "from keras.models import Sequential,Model, model_from_json\n",
        "# Filtreleme #  Dense Gizli Katmaları(hidden layer)\n",
        "from keras.layers import Dense,Conv2D,Activation,MaxPool2D,Flatten,Dropout,BatchNormalization,Dropout\n",
        "from keras.utils import np_utils\n",
        "from keras.preprocessing import image\n",
        "from keras.callbacks import ModelCheckpoint\n",
        "import keras\n",
        "import pandas as pd\n",
        "import numpy as np\n",
        "import os\n",
        "import matplotlib.pyplot as plt"
      ]
    },
    {
      "cell_type": "markdown",
      "source": [
        "# **Drive Hesabına Bağlanma**"
      ],
      "metadata": {
        "id": "cNro6DxY8DK2"
      }
    },
    {
      "cell_type": "code",
      "source": [
        "# Kimlik Doğrulama\n",
        "from google.colab import drive\n",
        "drive.mount(\"/gdrive\")\n",
        "%cd /gdrive"
      ],
      "metadata": {
        "colab": {
          "base_uri": "https://localhost:8080/"
        },
        "id": "iWH6N19yw4O1",
        "outputId": "3392ff0b-25fb-4ba3-cacd-e3dd0b0e099d"
      },
      "execution_count": 2,
      "outputs": [
        {
          "output_type": "stream",
          "name": "stdout",
          "text": [
            "Mounted at /gdrive\n",
            "/gdrive\n"
          ]
        }
      ]
    },
    {
      "cell_type": "markdown",
      "source": [
        "\n",
        "\n",
        "# **Eğitim ve Test Verilerini İnceleyeceğiz**\n",
        "\n",
        "\n",
        "\n",
        "\n",
        "\n"
      ],
      "metadata": {
        "id": "bzxtXGaF8J7_"
      }
    },
    {
      "cell_type": "code",
      "source": [
        "root='/gdrive/MyDrive/DuyguTanıma/'\n",
        "data=pd.read_csv(root+'fer2013/fer2013/fer2013.csv')\n",
        "data.head()"
      ],
      "metadata": {
        "colab": {
          "base_uri": "https://localhost:8080/",
          "height": 206
        },
        "id": "PJoq9i13w_gc",
        "outputId": "2e483dfa-3a86-4a7d-8883-1624fe067404"
      },
      "execution_count": 3,
      "outputs": [
        {
          "output_type": "execute_result",
          "data": {
            "text/plain": [
              "   emotion                                             pixels     Usage\n",
              "0        0  70 80 82 72 58 58 60 63 54 58 60 48 89 115 121...  Training\n",
              "1        0  151 150 147 155 148 133 111 140 170 174 182 15...  Training\n",
              "2        2  231 212 156 164 174 138 161 173 182 200 106 38...  Training\n",
              "3        4  24 32 36 30 32 23 19 20 30 41 21 22 32 34 21 1...  Training\n",
              "4        6  4 0 0 0 0 0 0 0 0 0 0 0 3 15 23 28 48 50 58 84...  Training"
            ],
            "text/html": [
              "\n",
              "  <div id=\"df-d3a148dc-6cb5-4213-af6d-22599e809756\">\n",
              "    <div class=\"colab-df-container\">\n",
              "      <div>\n",
              "<style scoped>\n",
              "    .dataframe tbody tr th:only-of-type {\n",
              "        vertical-align: middle;\n",
              "    }\n",
              "\n",
              "    .dataframe tbody tr th {\n",
              "        vertical-align: top;\n",
              "    }\n",
              "\n",
              "    .dataframe thead th {\n",
              "        text-align: right;\n",
              "    }\n",
              "</style>\n",
              "<table border=\"1\" class=\"dataframe\">\n",
              "  <thead>\n",
              "    <tr style=\"text-align: right;\">\n",
              "      <th></th>\n",
              "      <th>emotion</th>\n",
              "      <th>pixels</th>\n",
              "      <th>Usage</th>\n",
              "    </tr>\n",
              "  </thead>\n",
              "  <tbody>\n",
              "    <tr>\n",
              "      <th>0</th>\n",
              "      <td>0</td>\n",
              "      <td>70 80 82 72 58 58 60 63 54 58 60 48 89 115 121...</td>\n",
              "      <td>Training</td>\n",
              "    </tr>\n",
              "    <tr>\n",
              "      <th>1</th>\n",
              "      <td>0</td>\n",
              "      <td>151 150 147 155 148 133 111 140 170 174 182 15...</td>\n",
              "      <td>Training</td>\n",
              "    </tr>\n",
              "    <tr>\n",
              "      <th>2</th>\n",
              "      <td>2</td>\n",
              "      <td>231 212 156 164 174 138 161 173 182 200 106 38...</td>\n",
              "      <td>Training</td>\n",
              "    </tr>\n",
              "    <tr>\n",
              "      <th>3</th>\n",
              "      <td>4</td>\n",
              "      <td>24 32 36 30 32 23 19 20 30 41 21 22 32 34 21 1...</td>\n",
              "      <td>Training</td>\n",
              "    </tr>\n",
              "    <tr>\n",
              "      <th>4</th>\n",
              "      <td>6</td>\n",
              "      <td>4 0 0 0 0 0 0 0 0 0 0 0 3 15 23 28 48 50 58 84...</td>\n",
              "      <td>Training</td>\n",
              "    </tr>\n",
              "  </tbody>\n",
              "</table>\n",
              "</div>\n",
              "      <button class=\"colab-df-convert\" onclick=\"convertToInteractive('df-d3a148dc-6cb5-4213-af6d-22599e809756')\"\n",
              "              title=\"Convert this dataframe to an interactive table.\"\n",
              "              style=\"display:none;\">\n",
              "        \n",
              "  <svg xmlns=\"http://www.w3.org/2000/svg\" height=\"24px\"viewBox=\"0 0 24 24\"\n",
              "       width=\"24px\">\n",
              "    <path d=\"M0 0h24v24H0V0z\" fill=\"none\"/>\n",
              "    <path d=\"M18.56 5.44l.94 2.06.94-2.06 2.06-.94-2.06-.94-.94-2.06-.94 2.06-2.06.94zm-11 1L8.5 8.5l.94-2.06 2.06-.94-2.06-.94L8.5 2.5l-.94 2.06-2.06.94zm10 10l.94 2.06.94-2.06 2.06-.94-2.06-.94-.94-2.06-.94 2.06-2.06.94z\"/><path d=\"M17.41 7.96l-1.37-1.37c-.4-.4-.92-.59-1.43-.59-.52 0-1.04.2-1.43.59L10.3 9.45l-7.72 7.72c-.78.78-.78 2.05 0 2.83L4 21.41c.39.39.9.59 1.41.59.51 0 1.02-.2 1.41-.59l7.78-7.78 2.81-2.81c.8-.78.8-2.07 0-2.86zM5.41 20L4 18.59l7.72-7.72 1.47 1.35L5.41 20z\"/>\n",
              "  </svg>\n",
              "      </button>\n",
              "      \n",
              "  <style>\n",
              "    .colab-df-container {\n",
              "      display:flex;\n",
              "      flex-wrap:wrap;\n",
              "      gap: 12px;\n",
              "    }\n",
              "\n",
              "    .colab-df-convert {\n",
              "      background-color: #E8F0FE;\n",
              "      border: none;\n",
              "      border-radius: 50%;\n",
              "      cursor: pointer;\n",
              "      display: none;\n",
              "      fill: #1967D2;\n",
              "      height: 32px;\n",
              "      padding: 0 0 0 0;\n",
              "      width: 32px;\n",
              "    }\n",
              "\n",
              "    .colab-df-convert:hover {\n",
              "      background-color: #E2EBFA;\n",
              "      box-shadow: 0px 1px 2px rgba(60, 64, 67, 0.3), 0px 1px 3px 1px rgba(60, 64, 67, 0.15);\n",
              "      fill: #174EA6;\n",
              "    }\n",
              "\n",
              "    [theme=dark] .colab-df-convert {\n",
              "      background-color: #3B4455;\n",
              "      fill: #D2E3FC;\n",
              "    }\n",
              "\n",
              "    [theme=dark] .colab-df-convert:hover {\n",
              "      background-color: #434B5C;\n",
              "      box-shadow: 0px 1px 3px 1px rgba(0, 0, 0, 0.15);\n",
              "      filter: drop-shadow(0px 1px 2px rgba(0, 0, 0, 0.3));\n",
              "      fill: #FFFFFF;\n",
              "    }\n",
              "  </style>\n",
              "\n",
              "      <script>\n",
              "        const buttonEl =\n",
              "          document.querySelector('#df-d3a148dc-6cb5-4213-af6d-22599e809756 button.colab-df-convert');\n",
              "        buttonEl.style.display =\n",
              "          google.colab.kernel.accessAllowed ? 'block' : 'none';\n",
              "\n",
              "        async function convertToInteractive(key) {\n",
              "          const element = document.querySelector('#df-d3a148dc-6cb5-4213-af6d-22599e809756');\n",
              "          const dataTable =\n",
              "            await google.colab.kernel.invokeFunction('convertToInteractive',\n",
              "                                                     [key], {});\n",
              "          if (!dataTable) return;\n",
              "\n",
              "          const docLinkHtml = 'Like what you see? Visit the ' +\n",
              "            '<a target=\"_blank\" href=https://colab.research.google.com/notebooks/data_table.ipynb>data table notebook</a>'\n",
              "            + ' to learn more about interactive tables.';\n",
              "          element.innerHTML = '';\n",
              "          dataTable['output_type'] = 'display_data';\n",
              "          await google.colab.output.renderOutput(dataTable, element);\n",
              "          const docLink = document.createElement('div');\n",
              "          docLink.innerHTML = docLinkHtml;\n",
              "          element.appendChild(docLink);\n",
              "        }\n",
              "      </script>\n",
              "    </div>\n",
              "  </div>\n",
              "  "
            ]
          },
          "metadata": {},
          "execution_count": 3
        }
      ]
    },
    {
      "cell_type": "code",
      "source": [
        "data[\"Usage\"].value_counts()"
      ],
      "metadata": {
        "colab": {
          "base_uri": "https://localhost:8080/"
        },
        "id": "PGbD9cHQxJVE",
        "outputId": "5b7a04b0-6df0-4ed0-d60a-53fdc35864a3"
      },
      "execution_count": 4,
      "outputs": [
        {
          "output_type": "execute_result",
          "data": {
            "text/plain": [
              "Training       28709\n",
              "PublicTest      3589\n",
              "PrivateTest     3589\n",
              "Name: Usage, dtype: int64"
            ]
          },
          "metadata": {},
          "execution_count": 4
        }
      ]
    },
    {
      "cell_type": "markdown",
      "source": [
        "## **Eğitim Verisi İçin Ön İşleme Adımları**"
      ],
      "metadata": {
        "id": "sXWtThzq8XM_"
      }
    },
    {
      "cell_type": "code",
      "source": [
        "train_data=data[data.Usage==\"Training\"]\n",
        "train_data  "
      ],
      "metadata": {
        "colab": {
          "base_uri": "https://localhost:8080/",
          "height": 424
        },
        "id": "HJ4IeLWcyQRt",
        "outputId": "6ab0fb7a-a3f1-4b14-95c3-5ad0450b97b3"
      },
      "execution_count": 5,
      "outputs": [
        {
          "output_type": "execute_result",
          "data": {
            "text/plain": [
              "       emotion                                             pixels     Usage\n",
              "0            0  70 80 82 72 58 58 60 63 54 58 60 48 89 115 121...  Training\n",
              "1            0  151 150 147 155 148 133 111 140 170 174 182 15...  Training\n",
              "2            2  231 212 156 164 174 138 161 173 182 200 106 38...  Training\n",
              "3            4  24 32 36 30 32 23 19 20 30 41 21 22 32 34 21 1...  Training\n",
              "4            6  4 0 0 0 0 0 0 0 0 0 0 0 3 15 23 28 48 50 58 84...  Training\n",
              "...        ...                                                ...       ...\n",
              "28704        2  84 85 85 85 85 85 85 85 86 86 86 87 86 86 91 9...  Training\n",
              "28705        0  114 112 113 113 111 111 112 113 115 113 114 11...  Training\n",
              "28706        4  74 81 87 89 95 100 98 93 105 120 127 133 146 1...  Training\n",
              "28707        0  222 227 203 90 86 90 84 77 94 87 99 119 134 14...  Training\n",
              "28708        4  195 199 205 206 205 203 206 209 208 210 212 21...  Training\n",
              "\n",
              "[28709 rows x 3 columns]"
            ],
            "text/html": [
              "\n",
              "  <div id=\"df-79e8f8b9-ba2c-4f21-8a7a-89348708eba1\">\n",
              "    <div class=\"colab-df-container\">\n",
              "      <div>\n",
              "<style scoped>\n",
              "    .dataframe tbody tr th:only-of-type {\n",
              "        vertical-align: middle;\n",
              "    }\n",
              "\n",
              "    .dataframe tbody tr th {\n",
              "        vertical-align: top;\n",
              "    }\n",
              "\n",
              "    .dataframe thead th {\n",
              "        text-align: right;\n",
              "    }\n",
              "</style>\n",
              "<table border=\"1\" class=\"dataframe\">\n",
              "  <thead>\n",
              "    <tr style=\"text-align: right;\">\n",
              "      <th></th>\n",
              "      <th>emotion</th>\n",
              "      <th>pixels</th>\n",
              "      <th>Usage</th>\n",
              "    </tr>\n",
              "  </thead>\n",
              "  <tbody>\n",
              "    <tr>\n",
              "      <th>0</th>\n",
              "      <td>0</td>\n",
              "      <td>70 80 82 72 58 58 60 63 54 58 60 48 89 115 121...</td>\n",
              "      <td>Training</td>\n",
              "    </tr>\n",
              "    <tr>\n",
              "      <th>1</th>\n",
              "      <td>0</td>\n",
              "      <td>151 150 147 155 148 133 111 140 170 174 182 15...</td>\n",
              "      <td>Training</td>\n",
              "    </tr>\n",
              "    <tr>\n",
              "      <th>2</th>\n",
              "      <td>2</td>\n",
              "      <td>231 212 156 164 174 138 161 173 182 200 106 38...</td>\n",
              "      <td>Training</td>\n",
              "    </tr>\n",
              "    <tr>\n",
              "      <th>3</th>\n",
              "      <td>4</td>\n",
              "      <td>24 32 36 30 32 23 19 20 30 41 21 22 32 34 21 1...</td>\n",
              "      <td>Training</td>\n",
              "    </tr>\n",
              "    <tr>\n",
              "      <th>4</th>\n",
              "      <td>6</td>\n",
              "      <td>4 0 0 0 0 0 0 0 0 0 0 0 3 15 23 28 48 50 58 84...</td>\n",
              "      <td>Training</td>\n",
              "    </tr>\n",
              "    <tr>\n",
              "      <th>...</th>\n",
              "      <td>...</td>\n",
              "      <td>...</td>\n",
              "      <td>...</td>\n",
              "    </tr>\n",
              "    <tr>\n",
              "      <th>28704</th>\n",
              "      <td>2</td>\n",
              "      <td>84 85 85 85 85 85 85 85 86 86 86 87 86 86 91 9...</td>\n",
              "      <td>Training</td>\n",
              "    </tr>\n",
              "    <tr>\n",
              "      <th>28705</th>\n",
              "      <td>0</td>\n",
              "      <td>114 112 113 113 111 111 112 113 115 113 114 11...</td>\n",
              "      <td>Training</td>\n",
              "    </tr>\n",
              "    <tr>\n",
              "      <th>28706</th>\n",
              "      <td>4</td>\n",
              "      <td>74 81 87 89 95 100 98 93 105 120 127 133 146 1...</td>\n",
              "      <td>Training</td>\n",
              "    </tr>\n",
              "    <tr>\n",
              "      <th>28707</th>\n",
              "      <td>0</td>\n",
              "      <td>222 227 203 90 86 90 84 77 94 87 99 119 134 14...</td>\n",
              "      <td>Training</td>\n",
              "    </tr>\n",
              "    <tr>\n",
              "      <th>28708</th>\n",
              "      <td>4</td>\n",
              "      <td>195 199 205 206 205 203 206 209 208 210 212 21...</td>\n",
              "      <td>Training</td>\n",
              "    </tr>\n",
              "  </tbody>\n",
              "</table>\n",
              "<p>28709 rows × 3 columns</p>\n",
              "</div>\n",
              "      <button class=\"colab-df-convert\" onclick=\"convertToInteractive('df-79e8f8b9-ba2c-4f21-8a7a-89348708eba1')\"\n",
              "              title=\"Convert this dataframe to an interactive table.\"\n",
              "              style=\"display:none;\">\n",
              "        \n",
              "  <svg xmlns=\"http://www.w3.org/2000/svg\" height=\"24px\"viewBox=\"0 0 24 24\"\n",
              "       width=\"24px\">\n",
              "    <path d=\"M0 0h24v24H0V0z\" fill=\"none\"/>\n",
              "    <path d=\"M18.56 5.44l.94 2.06.94-2.06 2.06-.94-2.06-.94-.94-2.06-.94 2.06-2.06.94zm-11 1L8.5 8.5l.94-2.06 2.06-.94-2.06-.94L8.5 2.5l-.94 2.06-2.06.94zm10 10l.94 2.06.94-2.06 2.06-.94-2.06-.94-.94-2.06-.94 2.06-2.06.94z\"/><path d=\"M17.41 7.96l-1.37-1.37c-.4-.4-.92-.59-1.43-.59-.52 0-1.04.2-1.43.59L10.3 9.45l-7.72 7.72c-.78.78-.78 2.05 0 2.83L4 21.41c.39.39.9.59 1.41.59.51 0 1.02-.2 1.41-.59l7.78-7.78 2.81-2.81c.8-.78.8-2.07 0-2.86zM5.41 20L4 18.59l7.72-7.72 1.47 1.35L5.41 20z\"/>\n",
              "  </svg>\n",
              "      </button>\n",
              "      \n",
              "  <style>\n",
              "    .colab-df-container {\n",
              "      display:flex;\n",
              "      flex-wrap:wrap;\n",
              "      gap: 12px;\n",
              "    }\n",
              "\n",
              "    .colab-df-convert {\n",
              "      background-color: #E8F0FE;\n",
              "      border: none;\n",
              "      border-radius: 50%;\n",
              "      cursor: pointer;\n",
              "      display: none;\n",
              "      fill: #1967D2;\n",
              "      height: 32px;\n",
              "      padding: 0 0 0 0;\n",
              "      width: 32px;\n",
              "    }\n",
              "\n",
              "    .colab-df-convert:hover {\n",
              "      background-color: #E2EBFA;\n",
              "      box-shadow: 0px 1px 2px rgba(60, 64, 67, 0.3), 0px 1px 3px 1px rgba(60, 64, 67, 0.15);\n",
              "      fill: #174EA6;\n",
              "    }\n",
              "\n",
              "    [theme=dark] .colab-df-convert {\n",
              "      background-color: #3B4455;\n",
              "      fill: #D2E3FC;\n",
              "    }\n",
              "\n",
              "    [theme=dark] .colab-df-convert:hover {\n",
              "      background-color: #434B5C;\n",
              "      box-shadow: 0px 1px 3px 1px rgba(0, 0, 0, 0.15);\n",
              "      filter: drop-shadow(0px 1px 2px rgba(0, 0, 0, 0.3));\n",
              "      fill: #FFFFFF;\n",
              "    }\n",
              "  </style>\n",
              "\n",
              "      <script>\n",
              "        const buttonEl =\n",
              "          document.querySelector('#df-79e8f8b9-ba2c-4f21-8a7a-89348708eba1 button.colab-df-convert');\n",
              "        buttonEl.style.display =\n",
              "          google.colab.kernel.accessAllowed ? 'block' : 'none';\n",
              "\n",
              "        async function convertToInteractive(key) {\n",
              "          const element = document.querySelector('#df-79e8f8b9-ba2c-4f21-8a7a-89348708eba1');\n",
              "          const dataTable =\n",
              "            await google.colab.kernel.invokeFunction('convertToInteractive',\n",
              "                                                     [key], {});\n",
              "          if (!dataTable) return;\n",
              "\n",
              "          const docLinkHtml = 'Like what you see? Visit the ' +\n",
              "            '<a target=\"_blank\" href=https://colab.research.google.com/notebooks/data_table.ipynb>data table notebook</a>'\n",
              "            + ' to learn more about interactive tables.';\n",
              "          element.innerHTML = '';\n",
              "          dataTable['output_type'] = 'display_data';\n",
              "          await google.colab.output.renderOutput(dataTable, element);\n",
              "          const docLink = document.createElement('div');\n",
              "          docLink.innerHTML = docLinkHtml;\n",
              "          element.appendChild(docLink);\n",
              "        }\n",
              "      </script>\n",
              "    </div>\n",
              "  </div>\n",
              "  "
            ]
          },
          "metadata": {},
          "execution_count": 5
        }
      ]
    },
    {
      "cell_type": "code",
      "source": [
        "# İlk OLarak Pikselleri Boşluktan Ayırarak Liste İçerisine Aldık\n",
        "train_pixels=train_data.pixels.str.split(\" \").tolist()\n",
        "\n",
        "train_pixels=pd.DataFrame(train_pixels,dtype=int)\n",
        "train_images=train_pixels.values\n",
        "train_images=train_images.astype(np.float)"
      ],
      "metadata": {
        "colab": {
          "base_uri": "https://localhost:8080/"
        },
        "id": "LEQipmMOyQT8",
        "outputId": "c37998b0-ea10-419d-a6d3-63b63431dea1"
      },
      "execution_count": 6,
      "outputs": [
        {
          "output_type": "stream",
          "name": "stderr",
          "text": [
            "/usr/local/lib/python3.7/dist-packages/IPython/core/interactiveshell.py:3326: FutureWarning: Could not cast to int64, falling back to object. This behavior is deprecated. In a future version, when a dtype is passed to 'DataFrame', either all columns will be cast to that dtype, or a TypeError will be raised\n",
            "  exec(code_obj, self.user_global_ns, self.user_ns)\n",
            "/usr/local/lib/python3.7/dist-packages/ipykernel_launcher.py:6: DeprecationWarning: `np.float` is a deprecated alias for the builtin `float`. To silence this warning, use `float` by itself. Doing this will not modify any behavior and is safe. If you specifically wanted the numpy scalar type, use `np.float64` here.\n",
            "Deprecated in NumPy 1.20; for more details and guidance: https://numpy.org/devdocs/release/1.20.0-notes.html#deprecations\n",
            "  \n"
          ]
        }
      ]
    },
    {
      "cell_type": "code",
      "source": [
        "# DataFrame İçerisindeki Resimlerin Piksel Değerlerini Numy Dizisine Çevirdik\n",
        "print(train_images)\n",
        "print(train_images.shape)"
      ],
      "metadata": {
        "colab": {
          "base_uri": "https://localhost:8080/"
        },
        "id": "9yT3K7FGyQWQ",
        "outputId": "02ea0532-a91d-4209-9beb-0c976a1b9497"
      },
      "execution_count": 7,
      "outputs": [
        {
          "output_type": "stream",
          "name": "stdout",
          "text": [
            "[[ 70.  80.  82. ... 106. 109.  82.]\n",
            " [151. 150. 147. ... 193. 183. 184.]\n",
            " [231. 212. 156. ...  88. 110. 152.]\n",
            " ...\n",
            " [ 74.  81.  87. ... 188. 187. 187.]\n",
            " [222. 227. 203. ... 136. 136. 134.]\n",
            " [195. 199. 205. ...   6.  15.  38.]]\n",
            "(28709, 2304)\n"
          ]
        }
      ]
    },
    {
      "cell_type": "code",
      "source": [
        "# Görüntüyü 48x48 Boyutlandıracağız\n",
        "def show(img):\n",
        "    show_image=img.reshape(48,48)\n",
        "\n",
        "    plt.axis('off')\n",
        "    # cmap= Gri Şeklinde Göstersin\n",
        "    plt.imshow(show_image, cmap='gray')"
      ],
      "metadata": {
        "id": "Q0TDPJNsyQYd"
      },
      "execution_count": 8,
      "outputs": []
    },
    {
      "cell_type": "code",
      "source": [
        "# Rastgele Bir Resmi Gösterelim\n",
        "show(train_images[778])"
      ],
      "metadata": {
        "colab": {
          "base_uri": "https://localhost:8080/",
          "height": 248
        },
        "id": "yApVVz26yQam",
        "outputId": "a6ed83b2-94cd-450a-8bf7-63fde0c027de"
      },
      "execution_count": 9,
      "outputs": [
        {
          "output_type": "display_data",
          "data": {
            "text/plain": [
              "<Figure size 432x288 with 1 Axes>"
            ],
            "image/png": "[encoded data removed]"
          },
          "metadata": {
            "needs_background": "light"
          }
        }
      ]
    },
    {
      "cell_type": "code",
      "source": [
        "data.emotion.value_counts().sort_index()"
      ],
      "metadata": {
        "colab": {
          "base_uri": "https://localhost:8080/"
        },
        "id": "eibQMVP2yQcr",
        "outputId": "48359c1e-fc0d-4ca7-ca51-ea8c03cfe172"
      },
      "execution_count": 10,
      "outputs": [
        {
          "output_type": "execute_result",
          "data": {
            "text/plain": [
              "0    4953\n",
              "1     547\n",
              "2    5121\n",
              "3    8989\n",
              "4    6077\n",
              "5    4002\n",
              "6    6198\n",
              "Name: emotion, dtype: int64"
            ]
          },
          "metadata": {},
          "execution_count": 10
        }
      ]
    },
    {
      "cell_type": "code",
      "source": [
        "# Duyguları Düz Hale Getirdik (ravel)\n",
        "train_labels_flat = train_data[\"emotion\"].values.ravel()\n",
        "#(7,) 0 indeksini aldık // Benzersiz olan Duyguları Saydı\n",
        "train_labels_count=np.unique(train_labels_flat).shape[0]\n",
        "print(train_labels_count)"
      ],
      "metadata": {
        "colab": {
          "base_uri": "https://localhost:8080/"
        },
        "id": "XuBh8-CtyQez",
        "outputId": "a0a03693-8581-436a-b56f-4ce437c76d7b"
      },
      "execution_count": 11,
      "outputs": [
        {
          "output_type": "stream",
          "name": "stdout",
          "text": [
            "7\n"
          ]
        }
      ]
    },
    {
      "cell_type": "code",
      "source": [
        "# Derin Öğrenme İle Tahmin Edeceğimiz İçin y_train Değerlerimizi 0-1 Arasına Çekmemiz Lazım\n",
        "def dense_to_one_hot(labels_dense,num_classes):\n",
        "  num_labels=labels_dense.shape[0]\n",
        "  index_offset=np.arange(num_labels) * num_classes\n",
        "  labels_one_hot = np.zeros((num_labels,num_classes))\n",
        "  labels_one_hot.flat[index_offset + labels_dense.ravel()] =1\n",
        "  return labels_one_hot"
      ],
      "metadata": {
        "id": "pAcqyZ19yQgt"
      },
      "execution_count": 12,
      "outputs": []
    },
    {
      "cell_type": "code",
      "source": [
        "y_train= dense_to_one_hot(train_labels_flat , train_labels_count)\n",
        "y_train= y_train.astype(np.uint8)\n",
        "pd.DataFrame(y_train)"
      ],
      "metadata": {
        "colab": {
          "base_uri": "https://localhost:8080/",
          "height": 424
        },
        "id": "ns2pRhAwyQi1",
        "outputId": "d053bfa1-3f69-4ba7-a00e-86cec3e5df3a"
      },
      "execution_count": 13,
      "outputs": [
        {
          "output_type": "execute_result",
          "data": {
            "text/plain": [
              "       0  1  2  3  4  5  6\n",
              "0      1  0  0  0  0  0  0\n",
              "1      1  0  0  0  0  0  0\n",
              "2      0  0  1  0  0  0  0\n",
              "3      0  0  0  0  1  0  0\n",
              "4      0  0  0  0  0  0  1\n",
              "...   .. .. .. .. .. .. ..\n",
              "28704  0  0  1  0  0  0  0\n",
              "28705  1  0  0  0  0  0  0\n",
              "28706  0  0  0  0  1  0  0\n",
              "28707  1  0  0  0  0  0  0\n",
              "28708  0  0  0  0  1  0  0\n",
              "\n",
              "[28709 rows x 7 columns]"
            ],
            "text/html": [
              "\n",
              "  <div id=\"df-28afc286-768e-4736-8b0c-c99c0fd7b0fd\">\n",
              "    <div class=\"colab-df-container\">\n",
              "      <div>\n",
              "<style scoped>\n",
              "    .dataframe tbody tr th:only-of-type {\n",
              "        vertical-align: middle;\n",
              "    }\n",
              "\n",
              "    .dataframe tbody tr th {\n",
              "        vertical-align: top;\n",
              "    }\n",
              "\n",
              "    .dataframe thead th {\n",
              "        text-align: right;\n",
              "    }\n",
              "</style>\n",
              "<table border=\"1\" class=\"dataframe\">\n",
              "  <thead>\n",
              "    <tr style=\"text-align: right;\">\n",
              "      <th></th>\n",
              "      <th>0</th>\n",
              "      <th>1</th>\n",
              "      <th>2</th>\n",
              "      <th>3</th>\n",
              "      <th>4</th>\n",
              "      <th>5</th>\n",
              "      <th>6</th>\n",
              "    </tr>\n",
              "  </thead>\n",
              "  <tbody>\n",
              "    <tr>\n",
              "      <th>0</th>\n",
              "      <td>1</td>\n",
              "      <td>0</td>\n",
              "      <td>0</td>\n",
              "      <td>0</td>\n",
              "      <td>0</td>\n",
              "      <td>0</td>\n",
              "      <td>0</td>\n",
              "    </tr>\n",
              "    <tr>\n",
              "      <th>1</th>\n",
              "      <td>1</td>\n",
              "      <td>0</td>\n",
              "      <td>0</td>\n",
              "      <td>0</td>\n",
              "      <td>0</td>\n",
              "      <td>0</td>\n",
              "      <td>0</td>\n",
              "    </tr>\n",
              "    <tr>\n",
              "      <th>2</th>\n",
              "      <td>0</td>\n",
              "      <td>0</td>\n",
              "      <td>1</td>\n",
              "      <td>0</td>\n",
              "      <td>0</td>\n",
              "      <td>0</td>\n",
              "      <td>0</td>\n",
              "    </tr>\n",
              "    <tr>\n",
              "      <th>3</th>\n",
              "      <td>0</td>\n",
              "      <td>0</td>\n",
              "      <td>0</td>\n",
              "      <td>0</td>\n",
              "      <td>1</td>\n",
              "      <td>0</td>\n",
              "      <td>0</td>\n",
              "    </tr>\n",
              "    <tr>\n",
              "      <th>4</th>\n",
              "      <td>0</td>\n",
              "      <td>0</td>\n",
              "      <td>0</td>\n",
              "      <td>0</td>\n",
              "      <td>0</td>\n",
              "      <td>0</td>\n",
              "      <td>1</td>\n",
              "    </tr>\n",
              "    <tr>\n",
              "      <th>...</th>\n",
              "      <td>...</td>\n",
              "      <td>...</td>\n",
              "      <td>...</td>\n",
              "      <td>...</td>\n",
              "      <td>...</td>\n",
              "      <td>...</td>\n",
              "      <td>...</td>\n",
              "    </tr>\n",
              "    <tr>\n",
              "      <th>28704</th>\n",
              "      <td>0</td>\n",
              "      <td>0</td>\n",
              "      <td>1</td>\n",
              "      <td>0</td>\n",
              "      <td>0</td>\n",
              "      <td>0</td>\n",
              "      <td>0</td>\n",
              "    </tr>\n",
              "    <tr>\n",
              "      <th>28705</th>\n",
              "      <td>1</td>\n",
              "      <td>0</td>\n",
              "      <td>0</td>\n",
              "      <td>0</td>\n",
              "      <td>0</td>\n",
              "      <td>0</td>\n",
              "      <td>0</td>\n",
              "    </tr>\n",
              "    <tr>\n",
              "      <th>28706</th>\n",
              "      <td>0</td>\n",
              "      <td>0</td>\n",
              "      <td>0</td>\n",
              "      <td>0</td>\n",
              "      <td>1</td>\n",
              "      <td>0</td>\n",
              "      <td>0</td>\n",
              "    </tr>\n",
              "    <tr>\n",
              "      <th>28707</th>\n",
              "      <td>1</td>\n",
              "      <td>0</td>\n",
              "      <td>0</td>\n",
              "      <td>0</td>\n",
              "      <td>0</td>\n",
              "      <td>0</td>\n",
              "      <td>0</td>\n",
              "    </tr>\n",
              "    <tr>\n",
              "      <th>28708</th>\n",
              "      <td>0</td>\n",
              "      <td>0</td>\n",
              "      <td>0</td>\n",
              "      <td>0</td>\n",
              "      <td>1</td>\n",
              "      <td>0</td>\n",
              "      <td>0</td>\n",
              "    </tr>\n",
              "  </tbody>\n",
              "</table>\n",
              "<p>28709 rows × 7 columns</p>\n",
              "</div>\n",
              "      <button class=\"colab-df-convert\" onclick=\"convertToInteractive('df-28afc286-768e-4736-8b0c-c99c0fd7b0fd')\"\n",
              "              title=\"Convert this dataframe to an interactive table.\"\n",
              "              style=\"display:none;\">\n",
              "        \n",
              "  <svg xmlns=\"http://www.w3.org/2000/svg\" height=\"24px\"viewBox=\"0 0 24 24\"\n",
              "       width=\"24px\">\n",
              "    <path d=\"M0 0h24v24H0V0z\" fill=\"none\"/>\n",
              "    <path d=\"M18.56 5.44l.94 2.06.94-2.06 2.06-.94-2.06-.94-.94-2.06-.94 2.06-2.06.94zm-11 1L8.5 8.5l.94-2.06 2.06-.94-2.06-.94L8.5 2.5l-.94 2.06-2.06.94zm10 10l.94 2.06.94-2.06 2.06-.94-2.06-.94-.94-2.06-.94 2.06-2.06.94z\"/><path d=\"M17.41 7.96l-1.37-1.37c-.4-.4-.92-.59-1.43-.59-.52 0-1.04.2-1.43.59L10.3 9.45l-7.72 7.72c-.78.78-.78 2.05 0 2.83L4 21.41c.39.39.9.59 1.41.59.51 0 1.02-.2 1.41-.59l7.78-7.78 2.81-2.81c.8-.78.8-2.07 0-2.86zM5.41 20L4 18.59l7.72-7.72 1.47 1.35L5.41 20z\"/>\n",
              "  </svg>\n",
              "      </button>\n",
              "      \n",
              "  <style>\n",
              "    .colab-df-container {\n",
              "      display:flex;\n",
              "      flex-wrap:wrap;\n",
              "      gap: 12px;\n",
              "    }\n",
              "\n",
              "    .colab-df-convert {\n",
              "      background-color: #E8F0FE;\n",
              "      border: none;\n",
              "      border-radius: 50%;\n",
              "      cursor: pointer;\n",
              "      display: none;\n",
              "      fill: #1967D2;\n",
              "      height: 32px;\n",
              "      padding: 0 0 0 0;\n",
              "      width: 32px;\n",
              "    }\n",
              "\n",
              "    .colab-df-convert:hover {\n",
              "      background-color: #E2EBFA;\n",
              "      box-shadow: 0px 1px 2px rgba(60, 64, 67, 0.3), 0px 1px 3px 1px rgba(60, 64, 67, 0.15);\n",
              "      fill: #174EA6;\n",
              "    }\n",
              "\n",
              "    [theme=dark] .colab-df-convert {\n",
              "      background-color: #3B4455;\n",
              "      fill: #D2E3FC;\n",
              "    }\n",
              "\n",
              "    [theme=dark] .colab-df-convert:hover {\n",
              "      background-color: #434B5C;\n",
              "      box-shadow: 0px 1px 3px 1px rgba(0, 0, 0, 0.15);\n",
              "      filter: drop-shadow(0px 1px 2px rgba(0, 0, 0, 0.3));\n",
              "      fill: #FFFFFF;\n",
              "    }\n",
              "  </style>\n",
              "\n",
              "      <script>\n",
              "        const buttonEl =\n",
              "          document.querySelector('#df-28afc286-768e-4736-8b0c-c99c0fd7b0fd button.colab-df-convert');\n",
              "        buttonEl.style.display =\n",
              "          google.colab.kernel.accessAllowed ? 'block' : 'none';\n",
              "\n",
              "        async function convertToInteractive(key) {\n",
              "          const element = document.querySelector('#df-28afc286-768e-4736-8b0c-c99c0fd7b0fd');\n",
              "          const dataTable =\n",
              "            await google.colab.kernel.invokeFunction('convertToInteractive',\n",
              "                                                     [key], {});\n",
              "          if (!dataTable) return;\n",
              "\n",
              "          const docLinkHtml = 'Like what you see? Visit the ' +\n",
              "            '<a target=\"_blank\" href=https://colab.research.google.com/notebooks/data_table.ipynb>data table notebook</a>'\n",
              "            + ' to learn more about interactive tables.';\n",
              "          element.innerHTML = '';\n",
              "          dataTable['output_type'] = 'display_data';\n",
              "          await google.colab.output.renderOutput(dataTable, element);\n",
              "          const docLink = document.createElement('div');\n",
              "          docLink.innerHTML = docLinkHtml;\n",
              "          element.appendChild(docLink);\n",
              "        }\n",
              "      </script>\n",
              "    </div>\n",
              "  </div>\n",
              "  "
            ]
          },
          "metadata": {},
          "execution_count": 13
        }
      ]
    },
    {
      "cell_type": "markdown",
      "source": [
        "## **TEST Verisi İçin Ön İşleme Adımları**\n"
      ],
      "metadata": {
        "id": "lu1DEtr58laH"
      }
    },
    {
      "cell_type": "code",
      "source": [
        "# x_test Değerlerimiz Aynı Şekil 0-1 Arasına ALmamız Lazım\n",
        "test_data=data[data.Usage==\"PublicTest\"]\n",
        "test_data"
      ],
      "metadata": {
        "colab": {
          "base_uri": "https://localhost:8080/",
          "height": 424
        },
        "id": "B50lsvMgyQlF",
        "outputId": "204321b7-51f4-47eb-d702-73307b3c4c94"
      },
      "execution_count": 14,
      "outputs": [
        {
          "output_type": "execute_result",
          "data": {
            "text/plain": [
              "       emotion                                             pixels       Usage\n",
              "28709        0  254 254 254 254 254 249 255 160 2 58 53 70 77 ...  PublicTest\n",
              "28710        1  156 184 198 202 204 207 210 212 213 214 215 21...  PublicTest\n",
              "28711        4  69 118 61 60 96 121 103 87 103 88 70 90 115 12...  PublicTest\n",
              "28712        6  205 203 236 157 83 158 120 116 94 86 155 180 2...  PublicTest\n",
              "28713        3  87 79 74 66 74 96 77 80 80 84 83 89 102 91 84 ...  PublicTest\n",
              "...        ...                                                ...         ...\n",
              "32293        4  178 176 172 173 173 174 176 173 166 166 206 22...  PublicTest\n",
              "32294        3  25 34 42 44 42 47 57 59 59 58 54 51 50 56 63 6...  PublicTest\n",
              "32295        4  255 255 255 255 255 255 255 255 255 255 255 25...  PublicTest\n",
              "32296        4  33 25 31 36 36 42 69 103 132 163 175 183 187 1...  PublicTest\n",
              "32297        4  61 63 59 75 151 159 166 161 143 170 127 131 18...  PublicTest\n",
              "\n",
              "[3589 rows x 3 columns]"
            ],
            "text/html": [
              "\n",
              "  <div id=\"df-1dbde0b3-2875-4e66-8526-bc55ef16a702\">\n",
              "    <div class=\"colab-df-container\">\n",
              "      <div>\n",
              "<style scoped>\n",
              "    .dataframe tbody tr th:only-of-type {\n",
              "        vertical-align: middle;\n",
              "    }\n",
              "\n",
              "    .dataframe tbody tr th {\n",
              "        vertical-align: top;\n",
              "    }\n",
              "\n",
              "    .dataframe thead th {\n",
              "        text-align: right;\n",
              "    }\n",
              "</style>\n",
              "<table border=\"1\" class=\"dataframe\">\n",
              "  <thead>\n",
              "    <tr style=\"text-align: right;\">\n",
              "      <th></th>\n",
              "      <th>emotion</th>\n",
              "      <th>pixels</th>\n",
              "      <th>Usage</th>\n",
              "    </tr>\n",
              "  </thead>\n",
              "  <tbody>\n",
              "    <tr>\n",
              "      <th>28709</th>\n",
              "      <td>0</td>\n",
              "      <td>254 254 254 254 254 249 255 160 2 58 53 70 77 ...</td>\n",
              "      <td>PublicTest</td>\n",
              "    </tr>\n",
              "    <tr>\n",
              "      <th>28710</th>\n",
              "      <td>1</td>\n",
              "      <td>156 184 198 202 204 207 210 212 213 214 215 21...</td>\n",
              "      <td>PublicTest</td>\n",
              "    </tr>\n",
              "    <tr>\n",
              "      <th>28711</th>\n",
              "      <td>4</td>\n",
              "      <td>69 118 61 60 96 121 103 87 103 88 70 90 115 12...</td>\n",
              "      <td>PublicTest</td>\n",
              "    </tr>\n",
              "    <tr>\n",
              "      <th>28712</th>\n",
              "      <td>6</td>\n",
              "      <td>205 203 236 157 83 158 120 116 94 86 155 180 2...</td>\n",
              "      <td>PublicTest</td>\n",
              "    </tr>\n",
              "    <tr>\n",
              "      <th>28713</th>\n",
              "      <td>3</td>\n",
              "      <td>87 79 74 66 74 96 77 80 80 84 83 89 102 91 84 ...</td>\n",
              "      <td>PublicTest</td>\n",
              "    </tr>\n",
              "    <tr>\n",
              "      <th>...</th>\n",
              "      <td>...</td>\n",
              "      <td>...</td>\n",
              "      <td>...</td>\n",
              "    </tr>\n",
              "    <tr>\n",
              "      <th>32293</th>\n",
              "      <td>4</td>\n",
              "      <td>178 176 172 173 173 174 176 173 166 166 206 22...</td>\n",
              "      <td>PublicTest</td>\n",
              "    </tr>\n",
              "    <tr>\n",
              "      <th>32294</th>\n",
              "      <td>3</td>\n",
              "      <td>25 34 42 44 42 47 57 59 59 58 54 51 50 56 63 6...</td>\n",
              "      <td>PublicTest</td>\n",
              "    </tr>\n",
              "    <tr>\n",
              "      <th>32295</th>\n",
              "      <td>4</td>\n",
              "      <td>255 255 255 255 255 255 255 255 255 255 255 25...</td>\n",
              "      <td>PublicTest</td>\n",
              "    </tr>\n",
              "    <tr>\n",
              "      <th>32296</th>\n",
              "      <td>4</td>\n",
              "      <td>33 25 31 36 36 42 69 103 132 163 175 183 187 1...</td>\n",
              "      <td>PublicTest</td>\n",
              "    </tr>\n",
              "    <tr>\n",
              "      <th>32297</th>\n",
              "      <td>4</td>\n",
              "      <td>61 63 59 75 151 159 166 161 143 170 127 131 18...</td>\n",
              "      <td>PublicTest</td>\n",
              "    </tr>\n",
              "  </tbody>\n",
              "</table>\n",
              "<p>3589 rows × 3 columns</p>\n",
              "</div>\n",
              "      <button class=\"colab-df-convert\" onclick=\"convertToInteractive('df-1dbde0b3-2875-4e66-8526-bc55ef16a702')\"\n",
              "              title=\"Convert this dataframe to an interactive table.\"\n",
              "              style=\"display:none;\">\n",
              "        \n",
              "  <svg xmlns=\"http://www.w3.org/2000/svg\" height=\"24px\"viewBox=\"0 0 24 24\"\n",
              "       width=\"24px\">\n",
              "    <path d=\"M0 0h24v24H0V0z\" fill=\"none\"/>\n",
              "    <path d=\"M18.56 5.44l.94 2.06.94-2.06 2.06-.94-2.06-.94-.94-2.06-.94 2.06-2.06.94zm-11 1L8.5 8.5l.94-2.06 2.06-.94-2.06-.94L8.5 2.5l-.94 2.06-2.06.94zm10 10l.94 2.06.94-2.06 2.06-.94-2.06-.94-.94-2.06-.94 2.06-2.06.94z\"/><path d=\"M17.41 7.96l-1.37-1.37c-.4-.4-.92-.59-1.43-.59-.52 0-1.04.2-1.43.59L10.3 9.45l-7.72 7.72c-.78.78-.78 2.05 0 2.83L4 21.41c.39.39.9.59 1.41.59.51 0 1.02-.2 1.41-.59l7.78-7.78 2.81-2.81c.8-.78.8-2.07 0-2.86zM5.41 20L4 18.59l7.72-7.72 1.47 1.35L5.41 20z\"/>\n",
              "  </svg>\n",
              "      </button>\n",
              "      \n",
              "  <style>\n",
              "    .colab-df-container {\n",
              "      display:flex;\n",
              "      flex-wrap:wrap;\n",
              "      gap: 12px;\n",
              "    }\n",
              "\n",
              "    .colab-df-convert {\n",
              "      background-color: #E8F0FE;\n",
              "      border: none;\n",
              "      border-radius: 50%;\n",
              "      cursor: pointer;\n",
              "      display: none;\n",
              "      fill: #1967D2;\n",
              "      height: 32px;\n",
              "      padding: 0 0 0 0;\n",
              "      width: 32px;\n",
              "    }\n",
              "\n",
              "    .colab-df-convert:hover {\n",
              "      background-color: #E2EBFA;\n",
              "      box-shadow: 0px 1px 2px rgba(60, 64, 67, 0.3), 0px 1px 3px 1px rgba(60, 64, 67, 0.15);\n",
              "      fill: #174EA6;\n",
              "    }\n",
              "\n",
              "    [theme=dark] .colab-df-convert {\n",
              "      background-color: #3B4455;\n",
              "      fill: #D2E3FC;\n",
              "    }\n",
              "\n",
              "    [theme=dark] .colab-df-convert:hover {\n",
              "      background-color: #434B5C;\n",
              "      box-shadow: 0px 1px 3px 1px rgba(0, 0, 0, 0.15);\n",
              "      filter: drop-shadow(0px 1px 2px rgba(0, 0, 0, 0.3));\n",
              "      fill: #FFFFFF;\n",
              "    }\n",
              "  </style>\n",
              "\n",
              "      <script>\n",
              "        const buttonEl =\n",
              "          document.querySelector('#df-1dbde0b3-2875-4e66-8526-bc55ef16a702 button.colab-df-convert');\n",
              "        buttonEl.style.display =\n",
              "          google.colab.kernel.accessAllowed ? 'block' : 'none';\n",
              "\n",
              "        async function convertToInteractive(key) {\n",
              "          const element = document.querySelector('#df-1dbde0b3-2875-4e66-8526-bc55ef16a702');\n",
              "          const dataTable =\n",
              "            await google.colab.kernel.invokeFunction('convertToInteractive',\n",
              "                                                     [key], {});\n",
              "          if (!dataTable) return;\n",
              "\n",
              "          const docLinkHtml = 'Like what you see? Visit the ' +\n",
              "            '<a target=\"_blank\" href=https://colab.research.google.com/notebooks/data_table.ipynb>data table notebook</a>'\n",
              "            + ' to learn more about interactive tables.';\n",
              "          element.innerHTML = '';\n",
              "          dataTable['output_type'] = 'display_data';\n",
              "          await google.colab.output.renderOutput(dataTable, element);\n",
              "          const docLink = document.createElement('div');\n",
              "          docLink.innerHTML = docLinkHtml;\n",
              "          element.appendChild(docLink);\n",
              "        }\n",
              "      </script>\n",
              "    </div>\n",
              "  </div>\n",
              "  "
            ]
          },
          "metadata": {},
          "execution_count": 14
        }
      ]
    },
    {
      "cell_type": "code",
      "source": [
        "# İlk OLarak Pikselleri Boşluktan Ayırarak Liste İçerisine Aldık\n",
        "test_pixels=test_data.pixels.str.split(\" \").tolist()\n",
        "\n",
        "test_pixels=pd.DataFrame(test_pixels,dtype=int)\n",
        "test_images=test_pixels.values\n",
        "test_images=test_images.astype(np.float)"
      ],
      "metadata": {
        "colab": {
          "base_uri": "https://localhost:8080/"
        },
        "id": "r9Tvw42WyQnN",
        "outputId": "cac4c3b4-e36c-4705-d34a-c1f93b6a73d4"
      },
      "execution_count": 15,
      "outputs": [
        {
          "output_type": "stream",
          "name": "stderr",
          "text": [
            "/usr/local/lib/python3.7/dist-packages/IPython/core/interactiveshell.py:3326: FutureWarning: Could not cast to int64, falling back to object. This behavior is deprecated. In a future version, when a dtype is passed to 'DataFrame', either all columns will be cast to that dtype, or a TypeError will be raised\n",
            "  exec(code_obj, self.user_global_ns, self.user_ns)\n",
            "/usr/local/lib/python3.7/dist-packages/ipykernel_launcher.py:6: DeprecationWarning: `np.float` is a deprecated alias for the builtin `float`. To silence this warning, use `float` by itself. Doing this will not modify any behavior and is safe. If you specifically wanted the numpy scalar type, use `np.float64` here.\n",
            "Deprecated in NumPy 1.20; for more details and guidance: https://numpy.org/devdocs/release/1.20.0-notes.html#deprecations\n",
            "  \n"
          ]
        }
      ]
    },
    {
      "cell_type": "code",
      "source": [
        "# DataFrame İçerisindeki Resimlerin Piksel Değerlerini Numy Dizisine Çevirdik\n",
        "print(test_images)\n",
        "print(test_images.shape)"
      ],
      "metadata": {
        "colab": {
          "base_uri": "https://localhost:8080/"
        },
        "id": "ycoGuWQ4yQpU",
        "outputId": "e9134840-c6e0-428b-9611-169db5dcf522"
      },
      "execution_count": 16,
      "outputs": [
        {
          "output_type": "stream",
          "name": "stdout",
          "text": [
            "[[254. 254. 254. ...  42. 129. 180.]\n",
            " [156. 184. 198. ... 172. 167. 161.]\n",
            " [ 69. 118.  61. ...  88.  87.  90.]\n",
            " ...\n",
            " [255. 255. 255. ...  48.  50.  46.]\n",
            " [ 33.  25.  31. ...   4.   5.   4.]\n",
            " [ 61.  63.  59. ... 113. 165. 180.]]\n",
            "(3589, 2304)\n"
          ]
        }
      ]
    },
    {
      "cell_type": "code",
      "source": [
        "# Rastgele Bir Resmi Gösterelim\n",
        "plt.figure(0,figsize=(12,6))\n",
        "for i in range(1,13):\n",
        "  #i.ninci indeksteki resime çizdir\n",
        "  plt.subplot(3,4,i)\n",
        "  # eksenler kapalı\n",
        "  plt.axis('off')\n",
        "\n",
        "  img=test_images[i].reshape(48,48)\n",
        "  plt.imshow(img,cmap='gray')"
      ],
      "metadata": {
        "colab": {
          "base_uri": "https://localhost:8080/",
          "height": 357
        },
        "id": "sYlGmVWTyQrc",
        "outputId": "b8b8bbe1-8060-4cc6-eec4-433341417b11"
      },
      "execution_count": 17,
      "outputs": [
        {
          "output_type": "display_data",
          "data": {
            "text/plain": [
              "<Figure size 864x432 with 12 Axes>"
            ],
            "image/png": "[encoded data removed]"
          },
          "metadata": {
            "needs_background": "light"
          }
        }
      ]
    },
    {
      "cell_type": "code",
      "source": [
        "# Duyguları Düz Hale Getirdik (ravel)\n",
        "test_labels_flat = test_data[\"emotion\"].values.ravel()\n",
        "#(7,) 0 indeksini aldık // Benzersiz olan Duyguları Saydı\n",
        "test_labels_count=np.unique(test_labels_flat).shape[0]\n",
        "print(test_labels_count)"
      ],
      "metadata": {
        "colab": {
          "base_uri": "https://localhost:8080/"
        },
        "id": "sG4KP30RyQtx",
        "outputId": "14f48383-302a-41c8-c1cd-46845cd610f9"
      },
      "execution_count": 18,
      "outputs": [
        {
          "output_type": "stream",
          "name": "stdout",
          "text": [
            "7\n"
          ]
        }
      ]
    },
    {
      "cell_type": "code",
      "source": [
        "# Derin Öğrenme İle Tahmin Edeceğimiz İçin y_train Değerlerimizi 0-1 Arasına Çekmemiz Lazım\n",
        "y_test= dense_to_one_hot(test_labels_flat , test_labels_count)\n",
        "y_test= y_test.astype(np.uint8)\n",
        "pd.DataFrame(y_test)"
      ],
      "metadata": {
        "colab": {
          "base_uri": "https://localhost:8080/",
          "height": 424
        },
        "id": "-5M0bN5tyidU",
        "outputId": "5aeb2851-d05d-4ce2-de93-3f505471c6a3"
      },
      "execution_count": 19,
      "outputs": [
        {
          "output_type": "execute_result",
          "data": {
            "text/plain": [
              "      0  1  2  3  4  5  6\n",
              "0     1  0  0  0  0  0  0\n",
              "1     0  1  0  0  0  0  0\n",
              "2     0  0  0  0  1  0  0\n",
              "3     0  0  0  0  0  0  1\n",
              "4     0  0  0  1  0  0  0\n",
              "...  .. .. .. .. .. .. ..\n",
              "3584  0  0  0  0  1  0  0\n",
              "3585  0  0  0  1  0  0  0\n",
              "3586  0  0  0  0  1  0  0\n",
              "3587  0  0  0  0  1  0  0\n",
              "3588  0  0  0  0  1  0  0\n",
              "\n",
              "[3589 rows x 7 columns]"
            ],
            "text/html": [
              "\n",
              "  <div id=\"df-3c0b2753-e602-4348-81fb-b19fa114446c\">\n",
              "    <div class=\"colab-df-container\">\n",
              "      <div>\n",
              "<style scoped>\n",
              "    .dataframe tbody tr th:only-of-type {\n",
              "        vertical-align: middle;\n",
              "    }\n",
              "\n",
              "    .dataframe tbody tr th {\n",
              "        vertical-align: top;\n",
              "    }\n",
              "\n",
              "    .dataframe thead th {\n",
              "        text-align: right;\n",
              "    }\n",
              "</style>\n",
              "<table border=\"1\" class=\"dataframe\">\n",
              "  <thead>\n",
              "    <tr style=\"text-align: right;\">\n",
              "      <th></th>\n",
              "      <th>0</th>\n",
              "      <th>1</th>\n",
              "      <th>2</th>\n",
              "      <th>3</th>\n",
              "      <th>4</th>\n",
              "      <th>5</th>\n",
              "      <th>6</th>\n",
              "    </tr>\n",
              "  </thead>\n",
              "  <tbody>\n",
              "    <tr>\n",
              "      <th>0</th>\n",
              "      <td>1</td>\n",
              "      <td>0</td>\n",
              "      <td>0</td>\n",
              "      <td>0</td>\n",
              "      <td>0</td>\n",
              "      <td>0</td>\n",
              "      <td>0</td>\n",
              "    </tr>\n",
              "    <tr>\n",
              "      <th>1</th>\n",
              "      <td>0</td>\n",
              "      <td>1</td>\n",
              "      <td>0</td>\n",
              "      <td>0</td>\n",
              "      <td>0</td>\n",
              "      <td>0</td>\n",
              "      <td>0</td>\n",
              "    </tr>\n",
              "    <tr>\n",
              "      <th>2</th>\n",
              "      <td>0</td>\n",
              "      <td>0</td>\n",
              "      <td>0</td>\n",
              "      <td>0</td>\n",
              "      <td>1</td>\n",
              "      <td>0</td>\n",
              "      <td>0</td>\n",
              "    </tr>\n",
              "    <tr>\n",
              "      <th>3</th>\n",
              "      <td>0</td>\n",
              "      <td>0</td>\n",
              "      <td>0</td>\n",
              "      <td>0</td>\n",
              "      <td>0</td>\n",
              "      <td>0</td>\n",
              "      <td>1</td>\n",
              "    </tr>\n",
              "    <tr>\n",
              "      <th>4</th>\n",
              "      <td>0</td>\n",
              "      <td>0</td>\n",
              "      <td>0</td>\n",
              "      <td>1</td>\n",
              "      <td>0</td>\n",
              "      <td>0</td>\n",
              "      <td>0</td>\n",
              "    </tr>\n",
              "    <tr>\n",
              "      <th>...</th>\n",
              "      <td>...</td>\n",
              "      <td>...</td>\n",
              "      <td>...</td>\n",
              "      <td>...</td>\n",
              "      <td>...</td>\n",
              "      <td>...</td>\n",
              "      <td>...</td>\n",
              "    </tr>\n",
              "    <tr>\n",
              "      <th>3584</th>\n",
              "      <td>0</td>\n",
              "      <td>0</td>\n",
              "      <td>0</td>\n",
              "      <td>0</td>\n",
              "      <td>1</td>\n",
              "      <td>0</td>\n",
              "      <td>0</td>\n",
              "    </tr>\n",
              "    <tr>\n",
              "      <th>3585</th>\n",
              "      <td>0</td>\n",
              "      <td>0</td>\n",
              "      <td>0</td>\n",
              "      <td>1</td>\n",
              "      <td>0</td>\n",
              "      <td>0</td>\n",
              "      <td>0</td>\n",
              "    </tr>\n",
              "    <tr>\n",
              "      <th>3586</th>\n",
              "      <td>0</td>\n",
              "      <td>0</td>\n",
              "      <td>0</td>\n",
              "      <td>0</td>\n",
              "      <td>1</td>\n",
              "      <td>0</td>\n",
              "      <td>0</td>\n",
              "    </tr>\n",
              "    <tr>\n",
              "      <th>3587</th>\n",
              "      <td>0</td>\n",
              "      <td>0</td>\n",
              "      <td>0</td>\n",
              "      <td>0</td>\n",
              "      <td>1</td>\n",
              "      <td>0</td>\n",
              "      <td>0</td>\n",
              "    </tr>\n",
              "    <tr>\n",
              "      <th>3588</th>\n",
              "      <td>0</td>\n",
              "      <td>0</td>\n",
              "      <td>0</td>\n",
              "      <td>0</td>\n",
              "      <td>1</td>\n",
              "      <td>0</td>\n",
              "      <td>0</td>\n",
              "    </tr>\n",
              "  </tbody>\n",
              "</table>\n",
              "<p>3589 rows × 7 columns</p>\n",
              "</div>\n",
              "      <button class=\"colab-df-convert\" onclick=\"convertToInteractive('df-3c0b2753-e602-4348-81fb-b19fa114446c')\"\n",
              "              title=\"Convert this dataframe to an interactive table.\"\n",
              "              style=\"display:none;\">\n",
              "        \n",
              "  <svg xmlns=\"http://www.w3.org/2000/svg\" height=\"24px\"viewBox=\"0 0 24 24\"\n",
              "       width=\"24px\">\n",
              "    <path d=\"M0 0h24v24H0V0z\" fill=\"none\"/>\n",
              "    <path d=\"M18.56 5.44l.94 2.06.94-2.06 2.06-.94-2.06-.94-.94-2.06-.94 2.06-2.06.94zm-11 1L8.5 8.5l.94-2.06 2.06-.94-2.06-.94L8.5 2.5l-.94 2.06-2.06.94zm10 10l.94 2.06.94-2.06 2.06-.94-2.06-.94-.94-2.06-.94 2.06-2.06.94z\"/><path d=\"M17.41 7.96l-1.37-1.37c-.4-.4-.92-.59-1.43-.59-.52 0-1.04.2-1.43.59L10.3 9.45l-7.72 7.72c-.78.78-.78 2.05 0 2.83L4 21.41c.39.39.9.59 1.41.59.51 0 1.02-.2 1.41-.59l7.78-7.78 2.81-2.81c.8-.78.8-2.07 0-2.86zM5.41 20L4 18.59l7.72-7.72 1.47 1.35L5.41 20z\"/>\n",
              "  </svg>\n",
              "      </button>\n",
              "      \n",
              "  <style>\n",
              "    .colab-df-container {\n",
              "      display:flex;\n",
              "      flex-wrap:wrap;\n",
              "      gap: 12px;\n",
              "    }\n",
              "\n",
              "    .colab-df-convert {\n",
              "      background-color: #E8F0FE;\n",
              "      border: none;\n",
              "      border-radius: 50%;\n",
              "      cursor: pointer;\n",
              "      display: none;\n",
              "      fill: #1967D2;\n",
              "      height: 32px;\n",
              "      padding: 0 0 0 0;\n",
              "      width: 32px;\n",
              "    }\n",
              "\n",
              "    .colab-df-convert:hover {\n",
              "      background-color: #E2EBFA;\n",
              "      box-shadow: 0px 1px 2px rgba(60, 64, 67, 0.3), 0px 1px 3px 1px rgba(60, 64, 67, 0.15);\n",
              "      fill: #174EA6;\n",
              "    }\n",
              "\n",
              "    [theme=dark] .colab-df-convert {\n",
              "      background-color: #3B4455;\n",
              "      fill: #D2E3FC;\n",
              "    }\n",
              "\n",
              "    [theme=dark] .colab-df-convert:hover {\n",
              "      background-color: #434B5C;\n",
              "      box-shadow: 0px 1px 3px 1px rgba(0, 0, 0, 0.15);\n",
              "      filter: drop-shadow(0px 1px 2px rgba(0, 0, 0, 0.3));\n",
              "      fill: #FFFFFF;\n",
              "    }\n",
              "  </style>\n",
              "\n",
              "      <script>\n",
              "        const buttonEl =\n",
              "          document.querySelector('#df-3c0b2753-e602-4348-81fb-b19fa114446c button.colab-df-convert');\n",
              "        buttonEl.style.display =\n",
              "          google.colab.kernel.accessAllowed ? 'block' : 'none';\n",
              "\n",
              "        async function convertToInteractive(key) {\n",
              "          const element = document.querySelector('#df-3c0b2753-e602-4348-81fb-b19fa114446c');\n",
              "          const dataTable =\n",
              "            await google.colab.kernel.invokeFunction('convertToInteractive',\n",
              "                                                     [key], {});\n",
              "          if (!dataTable) return;\n",
              "\n",
              "          const docLinkHtml = 'Like what you see? Visit the ' +\n",
              "            '<a target=\"_blank\" href=https://colab.research.google.com/notebooks/data_table.ipynb>data table notebook</a>'\n",
              "            + ' to learn more about interactive tables.';\n",
              "          element.innerHTML = '';\n",
              "          dataTable['output_type'] = 'display_data';\n",
              "          await google.colab.output.renderOutput(dataTable, element);\n",
              "          const docLink = document.createElement('div');\n",
              "          docLink.innerHTML = docLinkHtml;\n",
              "          element.appendChild(docLink);\n",
              "        }\n",
              "      </script>\n",
              "    </div>\n",
              "  </div>\n",
              "  "
            ]
          },
          "metadata": {},
          "execution_count": 19
        }
      ]
    },
    {
      "cell_type": "markdown",
      "source": [
        "# **EVRİŞİMLİ SİNİR AĞININ MODELE TANILTILMASI**"
      ],
      "metadata": {
        "id": "PE1KabF98snv"
      }
    },
    {
      "cell_type": "code",
      "source": [
        "\n",
        "# Derin Ağımızda Katman Oluşturmak İçin Kerasın Sequential Modelini Kullanacaz\n",
        "model= Sequential()\n",
        "\n",
        "# 1.Katman Filtreleme (Convolutional )\n",
        "# 32 kanallı ,3 kernel_size = Filtre Boyutu 3x3\n",
        "# data_format= Yükselik,Genişlik,Kanal (Renk Sayısı) bilgisi sonda olacak şekilde\n",
        "# kernel_initialize = Başlangıç ağırlıklarını belirler\n",
        "# input_shape = Giriş Boyutu\n",
        "# 3 RGB (RED,GREEN,BLUE)\n",
        "\n",
        "model.add(Conv2D(32,3, data_format='channels_last',kernel_initializer=\"he_normal\",input_shape=(48,48,1)))\n",
        "model.add(BatchNormalization())\n",
        "model.add(Activation('relu'))\n",
        "\n",
        "#2.Katman\n",
        "model.add(Conv2D(64,3))\n",
        "# BatchNormalization   /// Geriye Yayılımda  Katmanın Eğitiminin hızlanmasını sağlar.\n",
        "# Normalizasyon Girdilerin dağılımının ortalamasını sıfır, standart sapmasını 1 olacak hale getirmektir. Değerler -1 ile +1 Arasına Alınır\n",
        "model.add(BatchNormalization())\n",
        "model.add(Activation('relu'))\n",
        "model.add(MaxPool2D(pool_size=(2,2),strides=2)) #strides = Adım aralığı 2 şer atlayacak\n",
        "model.add(Dropout(0.5)) # %50 Unutma İşlemi (Nöron Silme - Dropout)\n",
        "\n",
        "# Pooling Yaptığımız İçin Kanal Sayısı Değişmez Yine 64 Oldu\n",
        "# 3. Katman\n",
        "model.add(Conv2D(64,3))\n",
        "model.add(BatchNormalization())\n",
        "model.add(Activation('relu'))\n",
        "\n",
        "# 4. Katman\n",
        "model.add(Conv2D(32,3))\n",
        "model.add(BatchNormalization())\n",
        "model.add(Activation('relu'))\n",
        "\n",
        "#5.Katman\n",
        "model.add(Conv2D(32,3))\n",
        "model.add(BatchNormalization())\n",
        "model.add(Activation('relu'))\n",
        "model.add(MaxPool2D(pool_size=(2,2),strides=2)) #strride = Adım aralığı 2 şer atlayacak\n",
        "model.add(Dropout(0.5)) # %50  Unutma İşlemi (Nöron Silme - Dropout)\n",
        " \n",
        "# Tam Bağlantı Katmanı (Düzleştirme Yapacağız)\n",
        "# Flatte Vektörün Elemanları Azalıyor( Dense katmanı ile Sinir Ağı Uyguladık)\n",
        "# 2048 Vektörü 128 İndiriyoruz\n",
        "model.add(Flatten())\n",
        "model.add(Dense(128))\n",
        "model.add(BatchNormalization())\n",
        "model.add(Activation('relu'))\n",
        "model.add(Dropout(0.5)) # %50  Unutma İşlemi (Nöron Silme - Dropout)\n",
        "\n",
        "\n",
        "# Çıkış Katmanı\n",
        "# Sınıflandırmada 7 duygu var\n",
        "model.add(Dense(7))\n",
        "model.add(Activation('softmax')) # Sınıflandırıcı yapabileceğim aktivasyon\n",
        "\n",
        "model.compile(loss='categorical_crossentropy',optimizer='adam',metrics=['accuracy'])\n",
        "\n",
        "# MODELİN ÖZETİNİ GÖRME\n",
        "# Katmanlarda Öğrenilen Parametre Sayısı\n",
        "# Ortaklamada Öğrenme Olmaz\n",
        "model.summary()"
      ],
      "metadata": {
        "colab": {
          "base_uri": "https://localhost:8080/"
        },
        "id": "XdFumvFWyiis",
        "outputId": "db33db17-53b1-44a9-f080-1f07c22dd635"
      },
      "execution_count": 20,
      "outputs": [
        {
          "output_type": "stream",
          "name": "stdout",
          "text": [
            "Model: \"sequential\"\n",
            "_________________________________________________________________\n",
            " Layer (type)                Output Shape              Param #   \n",
            "=================================================================\n",
            " conv2d (Conv2D)             (None, 46, 46, 32)        320       \n",
            "                                                                 \n",
            " batch_normalization (BatchN  (None, 46, 46, 32)       128       \n",
            " ormalization)                                                   \n",
            "                                                                 \n",
            " activation (Activation)     (None, 46, 46, 32)        0         \n",
            "                                                                 \n",
            " conv2d_1 (Conv2D)           (None, 44, 44, 64)        18496     \n",
            "                                                                 \n",
            " batch_normalization_1 (Batc  (None, 44, 44, 64)       256       \n",
            " hNormalization)                                                 \n",
            "                                                                 \n",
            " activation_1 (Activation)   (None, 44, 44, 64)        0         \n",
            "                                                                 \n",
            " max_pooling2d (MaxPooling2D  (None, 22, 22, 64)       0         \n",
            " )                                                               \n",
            "                                                                 \n",
            " dropout (Dropout)           (None, 22, 22, 64)        0         \n",
            "                                                                 \n",
            " conv2d_2 (Conv2D)           (None, 20, 20, 64)        36928     \n",
            "                                                                 \n",
            " batch_normalization_2 (Batc  (None, 20, 20, 64)       256       \n",
            " hNormalization)                                                 \n",
            "                                                                 \n",
            " activation_2 (Activation)   (None, 20, 20, 64)        0         \n",
            "                                                                 \n",
            " conv2d_3 (Conv2D)           (None, 18, 18, 32)        18464     \n",
            "                                                                 \n",
            " batch_normalization_3 (Batc  (None, 18, 18, 32)       128       \n",
            " hNormalization)                                                 \n",
            "                                                                 \n",
            " activation_3 (Activation)   (None, 18, 18, 32)        0         \n",
            "                                                                 \n",
            " conv2d_4 (Conv2D)           (None, 16, 16, 32)        9248      \n",
            "                                                                 \n",
            " batch_normalization_4 (Batc  (None, 16, 16, 32)       128       \n",
            " hNormalization)                                                 \n",
            "                                                                 \n",
            " activation_4 (Activation)   (None, 16, 16, 32)        0         \n",
            "                                                                 \n",
            " max_pooling2d_1 (MaxPooling  (None, 8, 8, 32)         0         \n",
            " 2D)                                                             \n",
            "                                                                 \n",
            " dropout_1 (Dropout)         (None, 8, 8, 32)          0         \n",
            "                                                                 \n",
            " flatten (Flatten)           (None, 2048)              0         \n",
            "                                                                 \n",
            " dense (Dense)               (None, 128)               262272    \n",
            "                                                                 \n",
            " batch_normalization_5 (Batc  (None, 128)              512       \n",
            " hNormalization)                                                 \n",
            "                                                                 \n",
            " activation_5 (Activation)   (None, 128)               0         \n",
            "                                                                 \n",
            " dropout_2 (Dropout)         (None, 128)               0         \n",
            "                                                                 \n",
            " dense_1 (Dense)             (None, 7)                 903       \n",
            "                                                                 \n",
            " activation_6 (Activation)   (None, 7)                 0         \n",
            "                                                                 \n",
            "=================================================================\n",
            "Total params: 348,039\n",
            "Trainable params: 347,335\n",
            "Non-trainable params: 704\n",
            "_________________________________________________________________\n"
          ]
        }
      ]
    },
    {
      "cell_type": "markdown",
      "source": [
        "Eğitim ve Test Kümelerinin Eleman Sayısı , Yükseklik ve Genişlik , Kanal Sayısı (Renk Sayısı)-(1-Gri) Ekrana Yazdıracaz"
      ],
      "metadata": {
        "id": "bcs6YBOd9Fex"
      }
    },
    {
      "cell_type": "code",
      "source": [
        "# Oluşan Güncel Durumda ki Resimleri (x_train,x_test) bağımsız değişkenlere atadık\n",
        "x_train =train_images.reshape(-1,48,48,1)\n",
        "x_test=test_images.reshape(-1,48,48,1)\n",
        "print(f\"Bağımsız Train Değeri: {x_train.shape}\\nBağımsız Test Değeri: {x_test.shape}\")"
      ],
      "metadata": {
        "colab": {
          "base_uri": "https://localhost:8080/"
        },
        "id": "WD_l2V8dyil0",
        "outputId": "6c27e965-0a7d-4da5-be2e-e27b09156703"
      },
      "execution_count": 21,
      "outputs": [
        {
          "output_type": "stream",
          "name": "stdout",
          "text": [
            "Bağımsız Train Değeri: (28709, 48, 48, 1)\n",
            "Bağımsız Test Değeri: (3589, 48, 48, 1)\n"
          ]
        }
      ]
    },
    {
      "cell_type": "markdown",
      "source": [
        "Duygu Durumuda Aynı Şekil Yazdıralım\n"
      ],
      "metadata": {
        "id": "f7AQBTE59P2X"
      }
    },
    {
      "cell_type": "code",
      "source": [
        "# Bağımlı Değerler\n",
        "print(f\"Bağımlı Train Değeri: {y_train.shape}\\nBağımlı Test Değeri: {y_test.shape}\")"
      ],
      "metadata": {
        "colab": {
          "base_uri": "https://localhost:8080/"
        },
        "id": "xXwFO0oNyin_",
        "outputId": "e9ec8c1e-b999-4d1c-fe1e-625ad2da24e4"
      },
      "execution_count": 22,
      "outputs": [
        {
          "output_type": "stream",
          "name": "stdout",
          "text": [
            "Bağımlı Train Değeri: (28709, 7)\n",
            "Bağımlı Test Değeri: (3589, 7)\n"
          ]
        }
      ]
    },
    {
      "cell_type": "markdown",
      "source": [
        "# **MODELİN EĞİTİLMESİ**"
      ],
      "metadata": {
        "id": "kyZEvcJR9Sng"
      }
    },
    {
      "cell_type": "markdown",
      "source": [
        "Eğitim sonucunda en iyi ağırlıkları face_model.h5 dosyasına kaydederek \n",
        "\n",
        "Eğitilmiş bu modeli aşağıda yüklediğimiz resmin başarısını ölçtük"
      ],
      "metadata": {
        "id": "xRAmuFuw9Uxv"
      }
    },
    {
      "cell_type": "code",
      "source": [
        "# En Başarılı Ağırlıkların Kaydedilmesi\n",
        "controlResult=ModelCheckpoint(root+'data/face_model.h5',verbose=1,save_best_only=True)\n",
        "epochs=40\n",
        "batchSize=100\n",
        "\n",
        "# Modelin Çalıştırılması\n",
        "hist=model.fit(x_train,y_train,\n",
        "               epochs=epochs,\n",
        "               shuffle=True, # Karışık Şekilde Görselleri Alır\n",
        "               batch_size=batchSize,\n",
        "               validation_data=(x_test,y_test), # Doğrulama İşlemi İçin Public Test Kullanacaz\n",
        "               callbacks=[controlResult],verbose=2) # callbacks işlem sırasında ekrana ayrıntılı verilerin dökülmesini sağlıyoruz.\n",
        "                 \n",
        "\n",
        "# Modeli Json Formatta Kaydettik\n",
        "model_json=model.to_json()\n",
        "with open (root + 'data/face_model.json','w') as json_file:\n",
        "  json_file.write(model_json)"
      ],
      "metadata": {
        "colab": {
          "base_uri": "https://localhost:8080/"
        },
        "id": "Yf17j08Myip9",
        "outputId": "7f4f0f88-e021-4498-d681-3b276c2c0d58"
      },
      "execution_count": 23,
      "outputs": [
        {
          "output_type": "stream",
          "name": "stdout",
          "text": [
            "Epoch 1/40\n",
            "\n",
            "Epoch 1: val_loss improved from inf to 1.49515, saving model to /gdrive/MyDrive/DuyguTanıma/data/face_model.h5\n",
            "288/288 - 19s - loss: 1.9053 - accuracy: 0.2928 - val_loss: 1.4952 - val_accuracy: 0.4436 - 19s/epoch - 66ms/step\n",
            "Epoch 2/40\n",
            "\n",
            "Epoch 2: val_loss improved from 1.49515 to 1.39587, saving model to /gdrive/MyDrive/DuyguTanıma/data/face_model.h5\n",
            "288/288 - 7s - loss: 1.5408 - accuracy: 0.4046 - val_loss: 1.3959 - val_accuracy: 0.4648 - 7s/epoch - 24ms/step\n",
            "Epoch 3/40\n",
            "\n",
            "Epoch 3: val_loss improved from 1.39587 to 1.35076, saving model to /gdrive/MyDrive/DuyguTanıma/data/face_model.h5\n",
            "288/288 - 7s - loss: 1.4191 - accuracy: 0.4539 - val_loss: 1.3508 - val_accuracy: 0.4801 - 7s/epoch - 24ms/step\n",
            "Epoch 4/40\n",
            "\n",
            "Epoch 4: val_loss improved from 1.35076 to 1.27010, saving model to /gdrive/MyDrive/DuyguTanıma/data/face_model.h5\n",
            "288/288 - 7s - loss: 1.3566 - accuracy: 0.4787 - val_loss: 1.2701 - val_accuracy: 0.5085 - 7s/epoch - 24ms/step\n",
            "Epoch 5/40\n",
            "\n",
            "Epoch 5: val_loss improved from 1.27010 to 1.23099, saving model to /gdrive/MyDrive/DuyguTanıma/data/face_model.h5\n",
            "288/288 - 7s - loss: 1.3047 - accuracy: 0.5022 - val_loss: 1.2310 - val_accuracy: 0.5216 - 7s/epoch - 24ms/step\n",
            "Epoch 6/40\n",
            "\n",
            "Epoch 6: val_loss improved from 1.23099 to 1.20612, saving model to /gdrive/MyDrive/DuyguTanıma/data/face_model.h5\n",
            "288/288 - 7s - loss: 1.2745 - accuracy: 0.5104 - val_loss: 1.2061 - val_accuracy: 0.5428 - 7s/epoch - 25ms/step\n",
            "Epoch 7/40\n",
            "\n",
            "Epoch 7: val_loss improved from 1.20612 to 1.17336, saving model to /gdrive/MyDrive/DuyguTanıma/data/face_model.h5\n",
            "288/288 - 7s - loss: 1.2409 - accuracy: 0.5270 - val_loss: 1.1734 - val_accuracy: 0.5500 - 7s/epoch - 24ms/step\n",
            "Epoch 8/40\n",
            "\n",
            "Epoch 8: val_loss improved from 1.17336 to 1.17013, saving model to /gdrive/MyDrive/DuyguTanıma/data/face_model.h5\n",
            "288/288 - 7s - loss: 1.2182 - accuracy: 0.5324 - val_loss: 1.1701 - val_accuracy: 0.5506 - 7s/epoch - 24ms/step\n",
            "Epoch 9/40\n",
            "\n",
            "Epoch 9: val_loss improved from 1.17013 to 1.15094, saving model to /gdrive/MyDrive/DuyguTanıma/data/face_model.h5\n",
            "288/288 - 7s - loss: 1.1977 - accuracy: 0.5438 - val_loss: 1.1509 - val_accuracy: 0.5598 - 7s/epoch - 24ms/step\n",
            "Epoch 10/40\n",
            "\n",
            "Epoch 10: val_loss did not improve from 1.15094\n",
            "288/288 - 7s - loss: 1.1731 - accuracy: 0.5518 - val_loss: 1.1622 - val_accuracy: 0.5567 - 7s/epoch - 24ms/step\n",
            "Epoch 11/40\n",
            "\n",
            "Epoch 11: val_loss improved from 1.15094 to 1.12702, saving model to /gdrive/MyDrive/DuyguTanıma/data/face_model.h5\n",
            "288/288 - 7s - loss: 1.1561 - accuracy: 0.5628 - val_loss: 1.1270 - val_accuracy: 0.5678 - 7s/epoch - 25ms/step\n",
            "Epoch 12/40\n",
            "\n",
            "Epoch 12: val_loss improved from 1.12702 to 1.12027, saving model to /gdrive/MyDrive/DuyguTanıma/data/face_model.h5\n",
            "288/288 - 7s - loss: 1.1423 - accuracy: 0.5687 - val_loss: 1.1203 - val_accuracy: 0.5690 - 7s/epoch - 24ms/step\n",
            "Epoch 13/40\n",
            "\n",
            "Epoch 13: val_loss did not improve from 1.12027\n",
            "288/288 - 7s - loss: 1.1270 - accuracy: 0.5704 - val_loss: 1.1328 - val_accuracy: 0.5639 - 7s/epoch - 24ms/step\n",
            "Epoch 14/40\n",
            "\n",
            "Epoch 14: val_loss improved from 1.12027 to 1.11819, saving model to /gdrive/MyDrive/DuyguTanıma/data/face_model.h5\n",
            "288/288 - 7s - loss: 1.1114 - accuracy: 0.5807 - val_loss: 1.1182 - val_accuracy: 0.5729 - 7s/epoch - 25ms/step\n",
            "Epoch 15/40\n",
            "\n",
            "Epoch 15: val_loss improved from 1.11819 to 1.09954, saving model to /gdrive/MyDrive/DuyguTanıma/data/face_model.h5\n",
            "288/288 - 7s - loss: 1.0975 - accuracy: 0.5870 - val_loss: 1.0995 - val_accuracy: 0.5704 - 7s/epoch - 24ms/step\n",
            "Epoch 16/40\n",
            "\n",
            "Epoch 16: val_loss improved from 1.09954 to 1.08135, saving model to /gdrive/MyDrive/DuyguTanıma/data/face_model.h5\n",
            "288/288 - 7s - loss: 1.0845 - accuracy: 0.5909 - val_loss: 1.0813 - val_accuracy: 0.5798 - 7s/epoch - 26ms/step\n",
            "Epoch 17/40\n",
            "\n",
            "Epoch 17: val_loss did not improve from 1.08135\n",
            "288/288 - 7s - loss: 1.0787 - accuracy: 0.5953 - val_loss: 1.1398 - val_accuracy: 0.5606 - 7s/epoch - 25ms/step\n",
            "Epoch 18/40\n",
            "\n",
            "Epoch 18: val_loss did not improve from 1.08135\n",
            "288/288 - 7s - loss: 1.0711 - accuracy: 0.5956 - val_loss: 1.1131 - val_accuracy: 0.5843 - 7s/epoch - 24ms/step\n",
            "Epoch 19/40\n",
            "\n",
            "Epoch 19: val_loss improved from 1.08135 to 1.06348, saving model to /gdrive/MyDrive/DuyguTanıma/data/face_model.h5\n",
            "288/288 - 7s - loss: 1.0514 - accuracy: 0.6043 - val_loss: 1.0635 - val_accuracy: 0.5907 - 7s/epoch - 25ms/step\n",
            "Epoch 20/40\n",
            "\n",
            "Epoch 20: val_loss improved from 1.06348 to 1.05304, saving model to /gdrive/MyDrive/DuyguTanıma/data/face_model.h5\n",
            "288/288 - 7s - loss: 1.0433 - accuracy: 0.6068 - val_loss: 1.0530 - val_accuracy: 0.5988 - 7s/epoch - 24ms/step\n",
            "Epoch 21/40\n",
            "\n",
            "Epoch 21: val_loss did not improve from 1.05304\n",
            "288/288 - 7s - loss: 1.0322 - accuracy: 0.6087 - val_loss: 1.0970 - val_accuracy: 0.5929 - 7s/epoch - 24ms/step\n",
            "Epoch 22/40\n",
            "\n",
            "Epoch 22: val_loss did not improve from 1.05304\n",
            "288/288 - 7s - loss: 1.0195 - accuracy: 0.6132 - val_loss: 1.0926 - val_accuracy: 0.5915 - 7s/epoch - 24ms/step\n",
            "Epoch 23/40\n",
            "\n",
            "Epoch 23: val_loss improved from 1.05304 to 1.04696, saving model to /gdrive/MyDrive/DuyguTanıma/data/face_model.h5\n",
            "288/288 - 7s - loss: 1.0141 - accuracy: 0.6165 - val_loss: 1.0470 - val_accuracy: 0.6121 - 7s/epoch - 25ms/step\n",
            "Epoch 24/40\n",
            "\n",
            "Epoch 24: val_loss improved from 1.04696 to 1.03046, saving model to /gdrive/MyDrive/DuyguTanıma/data/face_model.h5\n",
            "288/288 - 7s - loss: 1.0099 - accuracy: 0.6206 - val_loss: 1.0305 - val_accuracy: 0.6096 - 7s/epoch - 24ms/step\n",
            "Epoch 25/40\n",
            "\n",
            "Epoch 25: val_loss did not improve from 1.03046\n",
            "288/288 - 7s - loss: 0.9986 - accuracy: 0.6243 - val_loss: 1.0622 - val_accuracy: 0.6018 - 7s/epoch - 24ms/step\n",
            "Epoch 26/40\n",
            "\n",
            "Epoch 26: val_loss improved from 1.03046 to 1.02929, saving model to /gdrive/MyDrive/DuyguTanıma/data/face_model.h5\n",
            "288/288 - 7s - loss: 0.9989 - accuracy: 0.6247 - val_loss: 1.0293 - val_accuracy: 0.6149 - 7s/epoch - 25ms/step\n",
            "Epoch 27/40\n",
            "\n",
            "Epoch 27: val_loss did not improve from 1.02929\n",
            "288/288 - 7s - loss: 0.9822 - accuracy: 0.6297 - val_loss: 1.0764 - val_accuracy: 0.5991 - 7s/epoch - 24ms/step\n",
            "Epoch 28/40\n",
            "\n",
            "Epoch 28: val_loss did not improve from 1.02929\n",
            "288/288 - 7s - loss: 0.9738 - accuracy: 0.6296 - val_loss: 1.0400 - val_accuracy: 0.6130 - 7s/epoch - 24ms/step\n",
            "Epoch 29/40\n",
            "\n",
            "Epoch 29: val_loss improved from 1.02929 to 1.02225, saving model to /gdrive/MyDrive/DuyguTanıma/data/face_model.h5\n",
            "288/288 - 7s - loss: 0.9703 - accuracy: 0.6313 - val_loss: 1.0223 - val_accuracy: 0.6130 - 7s/epoch - 25ms/step\n",
            "Epoch 30/40\n",
            "\n",
            "Epoch 30: val_loss did not improve from 1.02225\n",
            "288/288 - 7s - loss: 0.9672 - accuracy: 0.6391 - val_loss: 1.0718 - val_accuracy: 0.6080 - 7s/epoch - 24ms/step\n",
            "Epoch 31/40\n",
            "\n",
            "Epoch 31: val_loss did not improve from 1.02225\n",
            "288/288 - 7s - loss: 0.9603 - accuracy: 0.6393 - val_loss: 1.0542 - val_accuracy: 0.6124 - 7s/epoch - 24ms/step\n",
            "Epoch 32/40\n",
            "\n",
            "Epoch 32: val_loss did not improve from 1.02225\n",
            "288/288 - 7s - loss: 0.9511 - accuracy: 0.6393 - val_loss: 1.0376 - val_accuracy: 0.6135 - 7s/epoch - 24ms/step\n",
            "Epoch 33/40\n",
            "\n",
            "Epoch 33: val_loss did not improve from 1.02225\n",
            "288/288 - 7s - loss: 0.9398 - accuracy: 0.6451 - val_loss: 1.0255 - val_accuracy: 0.6071 - 7s/epoch - 24ms/step\n",
            "Epoch 34/40\n",
            "\n",
            "Epoch 34: val_loss did not improve from 1.02225\n",
            "288/288 - 7s - loss: 0.9385 - accuracy: 0.6464 - val_loss: 1.0240 - val_accuracy: 0.6113 - 7s/epoch - 24ms/step\n",
            "Epoch 35/40\n",
            "\n",
            "Epoch 35: val_loss improved from 1.02225 to 1.01689, saving model to /gdrive/MyDrive/DuyguTanıma/data/face_model.h5\n",
            "288/288 - 7s - loss: 0.9397 - accuracy: 0.6475 - val_loss: 1.0169 - val_accuracy: 0.6183 - 7s/epoch - 25ms/step\n",
            "Epoch 36/40\n",
            "\n",
            "Epoch 36: val_loss did not improve from 1.01689\n",
            "288/288 - 7s - loss: 0.9310 - accuracy: 0.6486 - val_loss: 1.0551 - val_accuracy: 0.6074 - 7s/epoch - 24ms/step\n",
            "Epoch 37/40\n",
            "\n",
            "Epoch 37: val_loss did not improve from 1.01689\n",
            "288/288 - 7s - loss: 0.9307 - accuracy: 0.6478 - val_loss: 1.0236 - val_accuracy: 0.6110 - 7s/epoch - 24ms/step\n",
            "Epoch 38/40\n",
            "\n",
            "Epoch 38: val_loss improved from 1.01689 to 1.01267, saving model to /gdrive/MyDrive/DuyguTanıma/data/face_model.h5\n",
            "288/288 - 7s - loss: 0.9120 - accuracy: 0.6534 - val_loss: 1.0127 - val_accuracy: 0.6236 - 7s/epoch - 25ms/step\n",
            "Epoch 39/40\n",
            "\n",
            "Epoch 39: val_loss improved from 1.01267 to 1.00888, saving model to /gdrive/MyDrive/DuyguTanıma/data/face_model.h5\n",
            "288/288 - 7s - loss: 0.9193 - accuracy: 0.6529 - val_loss: 1.0089 - val_accuracy: 0.6264 - 7s/epoch - 24ms/step\n",
            "Epoch 40/40\n",
            "\n",
            "Epoch 40: val_loss did not improve from 1.00888\n",
            "288/288 - 7s - loss: 0.9082 - accuracy: 0.6554 - val_loss: 1.0583 - val_accuracy: 0.6074 - 7s/epoch - 24ms/step\n"
          ]
        }
      ]
    },
    {
      "cell_type": "code",
      "source": [
        "plt.figure(figsize=(14,3))\n",
        "plt.subplot(1,2,1)\n",
        "plt.suptitle('Train',fontsize=10)\n",
        "plt.ylabel('Loss',fontsize=16)\n",
        "plt.plot(hist.history['loss'],color='r',label='Training Loss')\n",
        "plt.plot(hist.history['val_loss'],color='b',label='Validation Loss')\n",
        "plt.legend(loc='upper right')\n",
        "\n",
        "plt.subplot(1,2,2)\n",
        "plt.ylabel('Accuracy',fontsize=16)\n",
        "plt.plot(hist.history['accuracy'],color='g',label='Training Accuracy')\n",
        "plt.plot(hist.history['val_accuracy'],color='m',label='Validation Accuracy')\n",
        "plt.legend(loc='lower right')\n",
        "plt.show()"
      ],
      "metadata": {
        "colab": {
          "base_uri": "https://localhost:8080/",
          "height": 233
        },
        "id": "aGDt3ahryQv_",
        "outputId": "a95f13c6-cbd5-462c-838c-7920c75a9d31"
      },
      "execution_count": 24,
      "outputs": [
        {
          "output_type": "display_data",
          "data": {
            "text/plain": [
              "<Figure size 1008x216 with 2 Axes>"
            ],
            "image/png": "[encoded data removed]"
          },
          "metadata": {
            "needs_background": "light"
          }
        }
      ]
    },
    {
      "cell_type": "code",
      "source": [
        "from keras.models import load_model\n",
        "from keras.preprocessing import image"
      ],
      "metadata": {
        "id": "LahIgze1yQyI"
      },
      "execution_count": 25,
      "outputs": []
    },
    {
      "cell_type": "code",
      "source": [
        "model_best= load_model(root+'data/face_model.h5')"
      ],
      "metadata": {
        "id": "yYmZoHQLyQ0A"
      },
      "execution_count": 26,
      "outputs": []
    },
    {
      "cell_type": "code",
      "source": [
        "os.chdir('/gdrive/MyDrive/DuyguTanıma/images')"
      ],
      "metadata": {
        "id": "6J6VPnNj7sOO"
      },
      "execution_count": 29,
      "outputs": []
    },
    {
      "cell_type": "code",
      "source": [
        "# Klasör İçindeki Resimler\n",
        "!ls"
      ],
      "metadata": {
        "id": "OpJtY8e27_tM",
        "colab": {
          "base_uri": "https://localhost:8080/"
        },
        "outputId": "13b5e09f-579c-4550-905f-577c5c2d6e37"
      },
      "execution_count": 30,
      "outputs": [
        {
          "output_type": "stream",
          "name": "stdout",
          "text": [
            "17e641c5-f18a-4a40-9855-2cab7b6554c3.jpg\n",
            "1_org.jpg\n",
            "53b57449-46da-4fe3-a88a-6091367d1714.jpg\n",
            "ataturk.jpg\n",
            "BB255610-DBA0-4F30-8333-B92CFFCEAE58.jpg\n",
            "CB3D584A-5D3E-40E3-B6CE-069440FDF5A2.jpg\n",
            "IMG-20200728-WA0009.jpg\n",
            "Kemal_Sunal.jpg\n",
            "unnamed.jpg\n",
            "unnamed.png\n"
          ]
        }
      ]
    },
    {
      "cell_type": "markdown",
      "source": [
        "Resmi yükledikten sonra tahmin için boyutlandırma işlemi yaptık"
      ],
      "metadata": {
        "id": "-S3Ud_yp_tkH"
      }
    },
    {
      "cell_type": "code",
      "source": [
        "# Klasörden Çekmek İçin Resmi\n",
        "image_path=root+\"images/ataturk.jpg\"\n",
        "\n",
        "# ORJİNAL RESİM\n",
        "test_image_original=image.load_img(image_path)\n",
        "# BOYUTUNU 48X48 Çevirp Grileştirdik \n",
        "# Resmi Piksel Hale Dönüştürdük (Tensor Haline Geldi)\n",
        "test_image=image.load_img(image_path,target_size=(48,48),grayscale=True)\n",
        "test_data =image.img_to_array(test_image)\n",
        "test_data=np.expand_dims(test_data,axis=0)\n",
        "test_data=np.vstack([test_data])\n",
        "\n",
        "# Model_best ile yüklediğimiz resimleri tahmin ettik\n",
        "# batch 1 resim atacağımız için 1 dedik\n",
        "results=model_best.predict(test_data,batch_size=1)\n",
        "results"
      ],
      "metadata": {
        "colab": {
          "base_uri": "https://localhost:8080/"
        },
        "id": "p3TgTzWb_t7t",
        "outputId": "2c7138ea-ad4f-47b5-f2a3-92c8056eab3a"
      },
      "execution_count": 31,
      "outputs": [
        {
          "output_type": "stream",
          "name": "stderr",
          "text": [
            "/usr/local/lib/python3.7/dist-packages/keras_preprocessing/image/utils.py:107: UserWarning: grayscale is deprecated. Please use color_mode = \"grayscale\"\n",
            "  warnings.warn('grayscale is deprecated. Please use '\n"
          ]
        },
        {
          "output_type": "execute_result",
          "data": {
            "text/plain": [
              "array([[0.14611173, 0.00319963, 0.1665838 , 0.17945786, 0.33650777,\n",
              "        0.03513979, 0.13299938]], dtype=float32)"
            ]
          },
          "metadata": {},
          "execution_count": 31
        }
      ]
    },
    {
      "cell_type": "markdown",
      "source": [
        "# **Grafiğin Oluşturulması**"
      ],
      "metadata": {
        "id": "qW4IZPD6A1Bx"
      }
    },
    {
      "cell_type": "code",
      "source": [
        "class_names=['kizgin','igrenme','korku','mutlu','uzgun','sasirma','dogal']\n",
        "ind=0.1+0.6*np.arange(len(class_names))\n",
        "width=0.4\n",
        "\n",
        "color_list=['red','orangered','darkorange','limegreen','darkgreen','royalblue','navy']\n",
        "\n",
        "plt.imshow(test_image_original)\n",
        "plt.title('Giriş Resmi',fontsize=16)\n",
        "plt.axis('off')\n",
        "plt.show()\n",
        "\n",
        "for i in  range(len(class_names)):\n",
        "  plt.bar(ind[i],results[0][i],width,color=color_list[i])\n",
        "\n",
        "plt.title('Sınıflandırma Sonuçları',fontsize=20)\n",
        "plt.xlabel(\"Yüz İfadeleri\\n **Created by Emre Demirbaş**\",fontsize=16)\n",
        "plt.ylabel(\"Sınıflandırma Yüzdesi\",fontsize=16)\n",
        "\n",
        "plt.xticks(ind,class_names,rotation=45,fontsize=14)\n",
        "plt.show()"
      ],
      "metadata": {
        "colab": {
          "base_uri": "https://localhost:8080/",
          "height": 613
        },
        "id": "_BLv8KRQ_01-",
        "outputId": "4fa1f752-85ed-4a1d-bc80-daf76bbddfd5"
      },
      "execution_count": 32,
      "outputs": [
        {
          "output_type": "display_data",
          "data": {
            "text/plain": [
              "<Figure size 432x288 with 1 Axes>"
            ],
            "image/png": "[encoded data removed]"
          },
          "metadata": {
            "needs_background": "light"
          }
        },
        {
          "output_type": "display_data",
          "data": {
            "text/plain": [
              "<Figure size 432x288 with 1 Axes>"
            ],
            "image/png": "[encoded data removed]"
          },
          "metadata": {
            "needs_background": "light"
          }
        }
      ]
    },
    {
      "cell_type": "code",
      "source": [],
      "metadata": {
        "id": "jPYQ6LlR_2gv"
      },
      "execution_count": null,
      "outputs": []
    }
  ]
}